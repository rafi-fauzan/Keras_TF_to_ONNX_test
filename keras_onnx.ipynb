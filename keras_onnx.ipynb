{
 "metadata": {
  "language_info": {
   "codemirror_mode": {
    "name": "ipython",
    "version": 3
   },
   "file_extension": ".py",
   "mimetype": "text/x-python",
   "name": "python",
   "nbconvert_exporter": "python",
   "pygments_lexer": "ipython3",
   "version": "3.7.6-final"
  },
  "orig_nbformat": 2,
  "kernelspec": {
   "name": "Python 3.7.6 64-bit ('deeplearninggpu': conda)",
   "display_name": "Python 3.7.6 64-bit ('deeplearninggpu': conda)",
   "metadata": {
    "interpreter": {
     "hash": "15477a1b24ab630483281d8ad8d5fed9a76b0c7c1968a3917aef97a25081d679"
    }
   }
  }
 },
 "nbformat": 4,
 "nbformat_minor": 2,
 "cells": [
  {
   "cell_type": "code",
   "execution_count": 5,
   "metadata": {},
   "outputs": [
    {
     "output_type": "stream",
     "name": "stdout",
     "text": [
      "python version: 3.7.6\nkeras version: 2.2.4-tf, backend: tensorflow\ntensorflow version: 2.1.0\n"
     ]
    }
   ],
   "source": [
    "# import dependencies\n",
    "import tensorflow as tf\n",
    "import tensorflow.keras.backend as K\n",
    "from tensorflow.keras.models import load_model\n",
    "import onnx\n",
    "import keras2onnx\n",
    "import platform\n",
    "\n",
    "print(\"python version:\", platform.python_version())\n",
    "print(\"keras version: {0}, backend: {1}\".format(tf.keras.__version__, K.backend()))\n",
    "print(\"tensorflow version: {}\".format(tf.__version__))"
   ]
  },
  {
   "cell_type": "code",
   "execution_count": 6,
   "metadata": {
    "tags": []
   },
   "outputs": [],
   "source": [
    "# load keras model\n",
    "model = load_model('model/vgg19gap_checkpoint.h5')"
   ]
  },
  {
   "cell_type": "code",
   "execution_count": 7,
   "metadata": {
    "tags": []
   },
   "outputs": [
    {
     "output_type": "stream",
     "name": "stderr",
     "text": [
      "tf executing eager_mode: True\n",
      "tf.keras model eager_mode: False\n",
      "The ONNX operator number change on the optimization: 102 -> 50\n"
     ]
    }
   ],
   "source": [
    "# convert model\n",
    "onnx_model = keras2onnx.convert_keras(model, model.name)\n",
    "onnx.save_model(onnx_model, 'model/vgg19gap_checkpoint.onnx')"
   ]
  }
 ]
}